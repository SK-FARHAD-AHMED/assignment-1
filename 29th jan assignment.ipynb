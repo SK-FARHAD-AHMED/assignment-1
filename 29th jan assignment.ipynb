{
 "cells": [
  {
   "cell_type": "markdown",
   "id": "be068600-736a-4f61-b4e9-07cf59acf593",
   "metadata": {},
   "source": [
    "# 29 th jan ASSIGNMENT "
   ]
  },
  {
   "cell_type": "markdown",
   "id": "c69e2f2e-20bb-4e3a-be22-29865227e456",
   "metadata": {},
   "source": [
    "# "
   ]
  },
  {
   "cell_type": "markdown",
   "id": "eca5c777-b15b-4783-ad78-c345f44145de",
   "metadata": {},
   "source": [
    "# 1. who developed python programming language ?"
   ]
  },
  {
   "cell_type": "code",
   "execution_count": null,
   "id": "aac5e956-61e6-4445-acf8-ec20fe680160",
   "metadata": {},
   "outputs": [],
   "source": [
    " Guido van Rossum"
   ]
  },
  {
   "cell_type": "markdown",
   "id": "3f72dd67-aa4b-4e10-a932-83a9a6e2c66d",
   "metadata": {},
   "source": [
    "# 2. Which type of programming language does Python support ?"
   ]
  },
  {
   "cell_type": "code",
   "execution_count": null,
   "id": "83580ab4-a793-4f7c-bc33-23e901c73a03",
   "metadata": {},
   "outputs": [],
   "source": [
    "Python is a general-purpose programming language that supports various programming paradigms, including: \n",
    "    \n",
    "Procedural programming \n",
    "Object-oriented programming (OOP) \n",
    "Functional programming \n",
    "Aspect-oriented programming (AOP) \n",
    "\n",
    "Python also provides support for various programming styles such as imperative, declarative, and metaprogramming. Its flexibility and ease of use have made it a popular language for a wide range of applications, from web development and scientific computing to machine learning and data analysis. "
   ]
  },
  {
   "cell_type": "markdown",
   "id": "00ba6ce3-1c3b-4a1a-98cb-e64059d826de",
   "metadata": {},
   "source": [
    "# 3. Is Python case sensitive when dealing with identifiers? "
   ]
  },
  {
   "cell_type": "code",
   "execution_count": null,
   "id": "2e14c586-ecbe-4fa6-b1fd-bc3dcc1fd726",
   "metadata": {},
   "outputs": [],
   "source": [
    "Yes, Python is case sensitive when dealing with identifiers such as variable names, function names, and class names. This means that identifiers with different casing are treated as distinct and separate. \n",
    "\n",
    "For example, in Python, the variable names \"count\", \"Count\", and \"COUNT\" are considered different and can refer to separate variables. So, it is important to use consistent casing for identifiers throughout your code to avoid confusion and errors. "
   ]
  },
  {
   "cell_type": "markdown",
   "id": "2596cb54-519a-4d11-bdf8-403e7267ec4a",
   "metadata": {
    "tags": []
   },
   "source": [
    "# 4. What is the correct extension of the Python file? "
   ]
  },
  {
   "cell_type": "code",
   "execution_count": null,
   "id": "fd1640ef-29eb-416c-b704-f6a440db3c40",
   "metadata": {},
   "outputs": [],
   "source": [
    "The correct extension for a Python file is \".py\". When you save a Python program, you should give it a name that ends with the \".py\" extension. This helps your operating system recognize the file as a Python program and associate it with the appropriate software (such as a Python interpreter). \n",
    "\n",
    "For example, if you have a program named \"my_program.py\", you can run it from the command line by navigating to the directory where the file is stored and typing \"python my_program.py\" (assuming that you have Python installed on your system) "
   ]
  },
  {
   "cell_type": "markdown",
   "id": "6ac7c388-4999-4feb-acf6-9ee996ac1065",
   "metadata": {},
   "source": [
    "# 5. Is Python code compiled or interpreted? "
   ]
  },
  {
   "cell_type": "code",
   "execution_count": null,
   "id": "b92d10b3-d1c4-4a03-b7f9-b02a8c694dad",
   "metadata": {},
   "outputs": [],
   "source": [
    "Python code is typically interpreted, although it can be compiled as well. \n",
    "\n",
    "When you run a Python program, the source code is first compiled into bytecode. This bytecode is then interpreted by the Python interpreter and executed on the fly. This is why Python is often referred to as an interpreted language. \n",
    "\n",
    "However, it is possible to compile Python code into executable form using tools such as PyInstaller or Py2exe. This creates a standalone executable file that can be run on a machine without the need for a Python interpreter. So, while Python is primarily an interpreted language, it can also be compiled for specific use cases. \n",
    "\n",
    " "
   ]
  },
  {
   "cell_type": "markdown",
   "id": "3686b7bb-afec-483e-a347-2bba078e5572",
   "metadata": {},
   "source": [
    "# 6. Name a few blocks of code used to define in Python language? "
   ]
  },
  {
   "cell_type": "code",
   "execution_count": null,
   "id": "580649c2-8732-42eb-af60-22f3e16cdac1",
   "metadata": {},
   "outputs": [],
   "source": [
    "In Python, you can define different types of code blocks, including: \n",
    "\n",
    "Function blocks: Used to define functions in Python. They are created using the \"def\" keyword and are followed by the function name, parameter list, and the code block that makes up the function. \n",
    "Class blocks: Used to define classes in Python. They are created using the \"class\" keyword and are followed by the class name and the code block that defines the attributes and methods of the class. \n",
    "Conditional blocks: Used to execute code conditionally based on certain conditions. They are created using the \"if\", \"elif\", and \"else\" keywords and are followed by a code block that is executed only if the condition is true. \n",
    "Looping blocks: Used to execute code repeatedly. They are created using the \"for\" and \"while\" keywords and are followed by a code block that is executed repeatedly until a certain condition is met. \n",
    "Exception handling blocks: Used to handle exceptions that may occur during program execution. They are created using the \"try\", \"except\", \"else\", and \"finally\" keywords and are followed by a code block that is executed if an exception occurs or if the program runs successfully. \n",
    "\n",
    " "
   ]
  },
  {
   "cell_type": "markdown",
   "id": "65caf784-c6d1-4a83-adf2-a9b2df34e023",
   "metadata": {},
   "source": [
    "# 7. State a character used to give single-line comments in Python? "
   ]
  },
  {
   "cell_type": "code",
   "execution_count": null,
   "id": "99b5292d-bfa2-4225-abf1-d42307f83c3b",
   "metadata": {},
   "outputs": [],
   "source": [
    "In Python, the hash symbol \"#\" is used to give single-line comments. \n",
    "\n",
    "When the interpreter encounters a \"#\" symbol in the code, it ignores the rest of the line and considers it as a comment. Here's an example: \n",
    "\n",
    "# This is a single-line comment in Python \n",
    "print(\"Hello, World!\") # This line also has a comment \n",
    "\n",
    "In the above code, the first line is a single-line comment that is ignored by the interpreter. The second line prints the text \"Hello, World!\", but the rest of the line after \"#\" is considered a comment and ignored. "
   ]
  },
  {
   "cell_type": "markdown",
   "id": "e419a639-9334-4089-bacd-adbe1f0fb574",
   "metadata": {},
   "source": [
    "# 8.Mention functions which can help us to find the version of python that we are currently working on? "
   ]
  },
  {
   "cell_type": "code",
   "execution_count": null,
   "id": "e2b212e7-a2f4-490e-9b8c-de49e3f26dc5",
   "metadata": {},
   "outputs": [],
   "source": [
    "In Python, you can find the version of the Python interpreter you are currently working with using the following functions: \n",
    "\n",
    "sys.version: This function returns a string containing the version number of the Python interpreter, as well as some additional information about the build. \n",
    "import sys \n",
    "print(sys.version) \n",
    "\n",
    "platform.python_version(): This function returns a string containing the version number of the Python interpreter, without any additional information. "
   ]
  },
  {
   "cell_type": "markdown",
   "id": "f7d5f082-f371-413c-abc9-09e9b5a97d07",
   "metadata": {},
   "source": [
    "# 9. Python supports the creation of anonymous functions at runtime, using a construct called…….. "
   ]
  },
  {
   "cell_type": "code",
   "execution_count": null,
   "id": "5ba58b51-e2f9-4e47-bc81-61e4ca38c398",
   "metadata": {},
   "outputs": [],
   "source": [
    "Python supports the creation of anonymous functions at runtime, using a construct called \"lambda\". \n",
    "\n",
    "Lambda functions are also known as anonymous functions because they don't have a name like a regular function. Instead, they are defined using the \"lambda\" keyword, followed by the function's parameters, a colon, and the expression to be evaluated. \n",
    "Here's an example of a simple lambda function that squares its input: \n",
    "\n",
    "square = lambda x: x**2 \n",
    "\n",
    "In the above code, the lambda function takes one parameter \"x\" and returns its square. The function is assigned to the variable \"square\" and can be used like a regular function. "
   ]
  },
  {
   "cell_type": "markdown",
   "id": "1ed66dd7-d298-4f08-8290-0bf4f625ae47",
   "metadata": {},
   "source": [
    "# 10. What does pip stand for python? "
   ]
  },
  {
   "cell_type": "code",
   "execution_count": null,
   "id": "3b7edaa6-645f-4fe0-8ea9-4f19abada4a2",
   "metadata": {},
   "outputs": [],
   "source": [
    "PIP stands for \"Pip Installs Packages\" (or \"Pip Installs Python\"). It is the standard package manager for Python and is used to install, upgrade, and manage Python packages and their dependencies. \n",
    "\n",
    "Pip makes it easy to install and manage Python packages from the Python Package Index (PyPI) and other sources. With Pip, you can install packages using simple commands like \"pip install <package_name>\" and upgrade packages using \"pip install --upgrade <package_name>\". \n",
    "\n",
    "Pip is included with Python versions 3.4 and later, and it can also be installed separately on older versions of Python. "
   ]
  },
  {
   "cell_type": "markdown",
   "id": "6af1fe8c-2970-448b-8920-9e467e3e43fd",
   "metadata": {},
   "source": [
    "# 11. Mention a few built-in functions in python? "
   ]
  },
  {
   "cell_type": "code",
   "execution_count": null,
   "id": "ebe66495-2a8d-4c2a-a45b-8de469ec8505",
   "metadata": {},
   "outputs": [],
   "source": [
    "Python comes with a variety of built-in functions that are available for use without the need for importing any modules. Here are some commonly used built-in functions in Python: \n",
    "\n",
    "print() - Used to print output to the console. \n",
    "\n",
    "len() - Used to get the length of an object such as a string, list, or tuple. \n",
    "\n",
    "range() - Used to create a sequence of numbers. \n",
    "\n",
    "type() - Used to get the type of an object. \n",
    "\n",
    "input() - Used to get user input from the console. \n",
    "\n",
    "str() - Used to convert an object to a string. \n",
    "\n",
    "int() - Used to convert a string or float to an integer. \n",
    "\n",
    "float() - Used to convert a string or integer to a floating-point number. \n",
    "\n",
    "list() - Used to create a list object. \n",
    "\n",
    "dict() - Used to create a dictionary object. \n",
    "\n",
    " "
   ]
  },
  {
   "cell_type": "markdown",
   "id": "1dd941a0-2cf3-4460-8028-a44f02b69a56",
   "metadata": {},
   "source": [
    "# 12. What is the maximum possible length of an identifier in Python? "
   ]
  },
  {
   "cell_type": "code",
   "execution_count": null,
   "id": "ffd59ea2-511d-4364-bd79-4240999965b7",
   "metadata": {},
   "outputs": [],
   "source": [
    "In Python, the maximum length of an identifier is not specified. However, it is recommended to keep the identifier name reasonably short and descriptive so that the code is easy to read and understand. \n",
    "\n",
    "Python also has a few rules for naming identifiers: \n",
    "\n",
    "An identifier must start with a letter (a-z or A-Z) or an underscore (_). \n",
    "\n",
    "The rest of the identifier can contain letters, numbers, and underscores. \n",
    "\n",
    "Identifiers are case sensitive, so \"MyVar\" and \"myvar\" are different identifiers. \n",
    "\n",
    "Python keywords cannot be used as identifiers. \n",
    "\n",
    "Here's an example of valid and invalid identifier names: \n",
    "\n",
    "\n",
    "valid_identifier = \"my_variable\" \n",
    "\n",
    "also_valid = \"_myVariable_123\" \n",
    "\n",
    "not-valid = \"123_invalid\" # starts with a number \n",
    "\n",
    "not_valid = \"for\" # a Python keyword \n",
    "\n",
    "In summary, there is no specific limit on the length of an identifier in Python, but it's best to keep it reasonably short and follow the naming conventions and rules "
   ]
  },
  {
   "cell_type": "markdown",
   "id": "8e7bf99f-bb0a-4a46-86e0-b8836f607617",
   "metadata": {},
   "source": [
    "# 13. What are the benefits of using Python? "
   ]
  },
  {
   "cell_type": "code",
   "execution_count": null,
   "id": "8455be75-f0d8-4630-b3b0-95c5e8b9bfb4",
   "metadata": {},
   "outputs": [],
   "source": [
    "Python is a popular programming language with many benefits. Here are some of the benefits of using Python: \n",
    "\n",
    "Easy to learn and use: Python has a simple syntax and is easy to read, write and learn. It is a good language for beginners and experts alike. \n",
    "\n",
    "Large and supportive community: Python has a large and supportive community that contributes to its development. This community provides documentation, tutorials, and tools to make programming easier. \n",
    "Cross-platform compatibility: Python is a cross-platform language that can be run on multiple platforms such as Windows, Linux, and macOS. \n",
    "Versatile: Python can be used for a variety of applications, such as web development, scientific computing, data analysis, artificial intelligence, machine learning, and more. \n",
    "Rich libraries and frameworks: Python has a large number of libraries and frameworks that can be used to simplify programming tasks and reduce development time. Some popular libraries and frameworks include NumPy, Pandas, TensorFlow, Flask, and Django. \n",
    "Interpreted language: Python is an interpreted language, which means that you can run code without the need to compile it first. This makes it easier to test and debug code. \n",
    "High-level language: Python is a high-level language, which means that it provides abstractions that simplify programming tasks. This makes it easier to write and maintain code. \n",
    "\n",
    "In summary, Python is an easy-to-learn, versatile, and powerful language with a large community and rich ecosystem of libraries and frameworks. "
   ]
  },
  {
   "cell_type": "markdown",
   "id": "381f78b8-8e0e-4ff0-86de-51a2305148d2",
   "metadata": {},
   "source": [
    "# 14. How is memory managed in Python? "
   ]
  },
  {
   "cell_type": "code",
   "execution_count": null,
   "id": "12be9821-43ec-49c2-bdac-9160600314cc",
   "metadata": {},
   "outputs": [],
   "source": [
    "Memory management in Python is handled automatically through a technique called garbage collection. The garbage collector in Python automatically deallocates memory that is no longer in use, freeing up memory for other parts of the program. \n",
    "\n",
    "Python uses a reference counting technique to keep track of objects in memory. Each object in memory has a reference count, which is the number of references to that object. When the reference count of an object becomes zero, the garbage collector automatically deallocates the memory used by that object. \n",
    "\n",
    "Python also uses a technique called \"cyclic garbage collection\" to deal with objects that reference each other in a circular fashion. This prevents memory leaks caused by circular references. \n",
    "\n",
    "In addition to garbage collection, Python also has some built-in functions and libraries that can be used to manage memory more efficiently. For example, the \"del\" statement can be used to delete objects and their references, and the \"gc\" module provides some control over the garbage collector. \n",
    "\n",
    "Overall, memory management in Python is automatic and transparent to the programmer, making it easier to write and debug code without worrying about memory management issues. "
   ]
  },
  {
   "cell_type": "markdown",
   "id": "d5e5a41e-39c4-4d44-9ffb-5bc878b7d568",
   "metadata": {},
   "source": [
    "# 15. How to install Python on Windows and set path variables? "
   ]
  },
  {
   "cell_type": "code",
   "execution_count": null,
   "id": "459fea48-ced7-48bd-8f2b-6a1a0e07dbf4",
   "metadata": {},
   "outputs": [],
   "source": [
    "Here are the steps to install Python on Windows and set the path variables: \n",
    "\n",
    "Download Python: Go to the official Python website (https://www.python.org/downloads/) and download the latest version of Python for Windows. \n",
    "\n",
    "Run the installer: Double-click on the downloaded installer file to run the Python installer. \n",
    "\n",
    "Select components: In the Python installer, you can choose which components to install. The default options are usually sufficient for most users. \n",
    "\n",
    "Select installation location: Choose the installation location for Python. The default location is usually \"C:\\PythonXX\" where XX represents the version number. \n",
    "\n",
    "Customize installation: You can customize the installation by selecting optional features and advanced options. \n",
    "\n",
    "Add Python to PATH: To use Python from the command prompt, you need to add Python to the PATH environment variable. To do this, select \"Customize installation\" and check the \"Add Python to PATH\" option. If you have already installed Python and forgot to select this option, you can add it manually. \n",
    "\n",
    "Verify installation: Open the command prompt and type \"python\" to check if Python is installed correctly. If Python is installed, you should see the Python version number. \n",
    "\n",
    "That's it! You have successfully installed Python on Windows and set the path variables. You can now start using Python to write and run programs. "
   ]
  },
  {
   "cell_type": "markdown",
   "id": "68872e2a-33c1-4561-835a-1d01cae0da30",
   "metadata": {},
   "source": [
    "# "
   ]
  }
 ],
 "metadata": {
  "kernelspec": {
   "display_name": "Python 3 (ipykernel)",
   "language": "python",
   "name": "python3"
  },
  "language_info": {
   "codemirror_mode": {
    "name": "ipython",
    "version": 3
   },
   "file_extension": ".py",
   "mimetype": "text/x-python",
   "name": "python",
   "nbconvert_exporter": "python",
   "pygments_lexer": "ipython3",
   "version": "3.10.8"
  }
 },
 "nbformat": 4,
 "nbformat_minor": 5
}
